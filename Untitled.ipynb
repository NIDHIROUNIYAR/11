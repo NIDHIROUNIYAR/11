{
 "cells": [
  {
   "cell_type": "code",
   "execution_count": 1,
   "id": "20306233-2a46-4bf9-b6c5-bde8b3a4c5a5",
   "metadata": {},
   "outputs": [
    {
     "name": "stdin",
     "output_type": "stream",
     "text": [
      "enter firts: 20\n",
      "enter second: 60\n"
     ]
    },
    {
     "name": "stdout",
     "output_type": "stream",
     "text": [
      "sum= 80\n"
     ]
    }
   ],
   "source": [
    "# q1 write a program to print 2 numbers & print their sum\n",
    "\n",
    "first = int(input(\"enter firts:\"))\n",
    "second = int(input(\"enter second:\"))\n",
    "print(\"sum=\",first+second)"
   ]
  },
  {
   "cell_type": "code",
   "execution_count": 5,
   "id": "56dd6f7e-17c5-404f-a57f-8b6be7c3d47c",
   "metadata": {},
   "outputs": [
    {
     "name": "stdin",
     "output_type": "stream",
     "text": [
      "enter side squre: 10\n"
     ]
    },
    {
     "name": "stdout",
     "output_type": "stream",
     "text": [
      "area= 100.0\n"
     ]
    }
   ],
   "source": [
    "# q2 write the progrma to input side of A Squre & print its are\n",
    "side = float(input(\"enter side squre:\"))\n",
    "print(\"area=\",side*side)"
   ]
  },
  {
   "cell_type": "code",
   "execution_count": 7,
   "id": "f86a6dab-5ce8-4607-867f-aa5828c3b010",
   "metadata": {},
   "outputs": [
    {
     "name": "stdin",
     "output_type": "stream",
     "text": [
      "enter first: 18.55\n",
      "enter second: 20.0\n"
     ]
    },
    {
     "name": "stdout",
     "output_type": "stream",
     "text": [
      "avg= 19.275\n"
     ]
    }
   ],
   "source": [
    "# wap to input 2 floating point numbers &print their average\n",
    "a = float(input(\"enter first:\"))\n",
    "b = float(input(\"enter second:\"))\n",
    "print(\"avg=\",(a+b)/2)"
   ]
  },
  {
   "cell_type": "code",
   "execution_count": 13,
   "id": "077288cc-f313-4013-9f88-1d635adfbc0b",
   "metadata": {},
   "outputs": [
    {
     "name": "stdin",
     "output_type": "stream",
     "text": [
      "enter first: 50\n",
      "enter first: 20\n"
     ]
    },
    {
     "name": "stdout",
     "output_type": "stream",
     "text": [
      "True\n"
     ]
    }
   ],
   "source": [
    "#q4 wap to input 2 int numbers a&b print true if a is greater than or equal to b if not print false\n",
    "a =int(input(\"enter first:\"))\n",
    "b = int(input(\"enter first:\"))\n",
    "print(a>=b)\n"
   ]
  },
  {
   "cell_type": "code",
   "execution_count": 15,
   "id": "1e2a91d5-0649-41cc-872c-4b20f29688ca",
   "metadata": {},
   "outputs": [
    {
     "name": "stdin",
     "output_type": "stream",
     "text": [
      "enter your name: nidhi\n"
     ]
    },
    {
     "name": "stdout",
     "output_type": "stream",
     "text": [
      "lenght your name is 5\n"
     ]
    }
   ],
   "source": [
    "# calss 2 # stirng function\n",
    "# wap to print users's first name & print its length\n",
    "\n",
    "name=  input(\"enter your name:\")\n",
    "print(\"lenght your name is\",len(name))"
   ]
  },
  {
   "cell_type": "code",
   "execution_count": 17,
   "id": "c54fe6df-30bf-4f91-a0b7-bd5c40d73a75",
   "metadata": {},
   "outputs": [
    {
     "name": "stdout",
     "output_type": "stream",
     "text": [
      "0\n"
     ]
    }
   ],
   "source": [
    "# wap to find the occurense of \"$\" in a string\n",
    "str = \"Hi\", \"$i am $ syambol $99.99\"\n",
    "print(str.count(\"$\"))"
   ]
  },
  {
   "cell_type": "code",
   "execution_count": 23,
   "id": "50eed1dd-8974-41ad-9463-89ea3798ab58",
   "metadata": {},
   "outputs": [
    {
     "name": "stdout",
     "output_type": "stream",
     "text": [
      "grade of the student C\n"
     ]
    }
   ],
   "source": [
    "# conditional function\n",
    "#q1 grade student based on marks\n",
    "#marks>= 90,grade =\"a\"\n",
    "#90> marks>=80, grade = \"b\"\n",
    "#80> marks >=70,grade = \"C\"\n",
    "#70> marks,grade =\"D\"\n",
    "\n",
    "marks = 70\n",
    "if(marks >= 90):\n",
    "    grade = \"A\"\n",
    "elif(marks >= 80 and marks <90):\n",
    "    grade = \"B\"\n",
    "elif(marks >=70 and marks<80):\n",
    "    grade = \"C\"\n",
    "else:\n",
    "    grade = \"D\"\n",
    "print(\"grade of the student\",grade)\n"
   ]
  },
  {
   "cell_type": "code",
   "execution_count": 33,
   "id": "833e0175-2496-4e47-9b1b-e1238212d115",
   "metadata": {},
   "outputs": [
    {
     "name": "stdin",
     "output_type": "stream",
     "text": [
      "enter your marks : 60\n"
     ]
    },
    {
     "name": "stdout",
     "output_type": "stream",
     "text": [
      "grade of the student D\n"
     ]
    }
   ],
   "source": [
    "marks = int(input(\"enter your marks :\"))\n",
    "if(marks >= 90):\n",
    "    grade = \"A\"\n",
    "elif(marks >= 80 and marks <90):\n",
    "    grade = \"B\"\n",
    "elif(marks >=70 and marks<80):\n",
    "    grade = \"C\"\n",
    "else:\n",
    "    grade = \"D\"\n",
    "print(\"grade of the student\",grade)\n"
   ]
  },
  {
   "cell_type": "code",
   "execution_count": 39,
   "id": "7fcf8106-dd06-4503-9712-f14e421c24ed",
   "metadata": {},
   "outputs": [
    {
     "name": "stdin",
     "output_type": "stream",
     "text": [
      "enter number: 1\n"
     ]
    },
    {
     "name": "stdout",
     "output_type": "stream",
     "text": [
      "odd\n"
     ]
    }
   ],
   "source": [
    "# wap to check if a number entered by the user is odd or even\n",
    "num = int(input(\"enter number:\"))\n",
    "rem = num % 2\n",
    "if (rem==0):\n",
    "    print(\"even\")\n",
    "else:\n",
    "    print(\"odd\")"
   ]
  },
  {
   "cell_type": "code",
   "execution_count": 41,
   "id": "8401fc37-3c91-4a3a-8167-f08925d5bcf9",
   "metadata": {},
   "outputs": [
    {
     "name": "stdin",
     "output_type": "stream",
     "text": [
      "enter first  number: 4\n",
      "enter second number: 5\n",
      "enter third number: 7\n"
     ]
    },
    {
     "name": "stdout",
     "output_type": "stream",
     "text": [
      "third is largest number 7\n"
     ]
    }
   ],
   "source": [
    "# wap to find the gratest of 3 numbers entered by the user\n",
    "a = int(input(\"enter first  number:\"))\n",
    "b = int(input(\"enter second number:\"))\n",
    "c = int(input(\"enter third number:\"))\n",
    "\n",
    "if (a>= b and b >=c):\n",
    "    print(\" first number is largest number\",a)\n",
    "elif( b>=c):\n",
    "     print(\" second  number is largest number\",b)\n",
    "else:\n",
    "    print(\"third is largest number\",c)"
   ]
  },
  {
   "cell_type": "code",
   "execution_count": 43,
   "id": "56cea056-2507-48c0-b7ba-d447b5f56c24",
   "metadata": {},
   "outputs": [
    {
     "name": "stdin",
     "output_type": "stream",
     "text": [
      "enter the   number: 21\n"
     ]
    },
    {
     "name": "stdout",
     "output_type": "stream",
     "text": [
      "not a multiple\n"
     ]
    }
   ],
   "source": [
    "# wap to check if a number is a multiple of  7 or not\n",
    "x = int(input(\"enter the   number:\"))\n",
    "\n",
    "if (x % 5 ==0):\n",
    "    print(\"multiple of 5\")\n",
    "else:\n",
    "    print(\"not a multiple\")"
   ]
  },
  {
   "cell_type": "code",
   "execution_count": 59,
   "id": "e9969fba-538f-4dd7-833d-908c730f0e9f",
   "metadata": {},
   "outputs": [
    {
     "ename": "SyntaxError",
     "evalue": "invalid syntax (1868644776.py, line 4)",
     "output_type": "error",
     "traceback": [
      "\u001b[1;36m  Cell \u001b[1;32mIn[59], line 4\u001b[1;36m\u001b[0m\n\u001b[1;33m    movies[]\u001b[0m\n\u001b[1;37m           ^\u001b[0m\n\u001b[1;31mSyntaxError\u001b[0m\u001b[1;31m:\u001b[0m invalid syntax\n"
     ]
    }
   ],
   "source": [
    "# calss 3 list class\n",
    "# q1 wap to ask the user to enter names of their 3 favrote movi & store them in a list\n",
    "\n",
    "movies[]\n",
    "\n",
    "movies.append(input(\"enter the 1st movies:\"))\n",
    "movies.append(input(\"enter the 2nd  movies:\"))\n",
    "movies.append(input(\"enter the 3rd movies:\"))\n",
    "\n",
    "print(movies)"
   ]
  },
  {
   "cell_type": "code",
   "execution_count": 3,
   "id": "91ff7a75-959e-4899-be26-9a29ac015b3d",
   "metadata": {},
   "outputs": [
    {
     "name": "stdout",
     "output_type": "stream",
     "text": [
      "5\n",
      "4\n"
     ]
    }
   ],
   "source": [
    "#calss 7 function\n",
    "#WAF to print the lenghtof a list(list is the parameter)\n",
    "cities = [\"Delhi\", \"gurgaoun\", \"Noida\",\"kathamandu\",\" Biratnage\"]\n",
    "heros = [\" shaktiman\", \"iron\", \"shakti\", \"hatim\"\" sonpari\"]\n",
    "\n",
    "def print_len(list):\n",
    "    print(len(list))\n",
    "\n",
    "print_len(cities)\n",
    "print_len(heros)\n"
   ]
  },
  {
   "cell_type": "code",
   "execution_count": 5,
   "id": "4c2dd333-e58a-43b8-a5d3-52158df2b995",
   "metadata": {},
   "outputs": [
    {
     "ename": "IndentationError",
     "evalue": "expected an indented block after function definition on line 6 (2715045654.py, line 7)",
     "output_type": "error",
     "traceback": [
      "\u001b[1;36m  Cell \u001b[1;32mIn[5], line 7\u001b[1;36m\u001b[0m\n\u001b[1;33m    for item in list:\u001b[0m\n\u001b[1;37m    ^\u001b[0m\n\u001b[1;31mIndentationError\u001b[0m\u001b[1;31m:\u001b[0m expected an indented block after function definition on line 6\n"
     ]
    }
   ],
   "source": [
    "# waf to print the element f a list in a single line\n",
    "cities = [\"Delhi\", \"gurgaoun\", \"Noida\",\"kathamandu\",\" Biratnage\"]\n",
    "heros = [\" shaktiman\", \"iron\", \"shakti\", \"hatim\"\" sonpari\"]\n",
    "def print_len(list):\n",
    "    print(len(list))\n",
    "def print_len(list):\n",
    "for item in list:\n",
    "    print(item,end=\" \")\n",
    "    print_list(heros)"
   ]
  },
  {
   "cell_type": "code",
   "execution_count": null,
   "id": "759492ea-b5fb-4885-b354-06bd477326f9",
   "metadata": {},
   "outputs": [],
   "source": []
  }
 ],
 "metadata": {
  "kernelspec": {
   "display_name": "Python 3 (ipykernel)",
   "language": "python",
   "name": "python3"
  },
  "language_info": {
   "codemirror_mode": {
    "name": "ipython",
    "version": 3
   },
   "file_extension": ".py",
   "mimetype": "text/x-python",
   "name": "python",
   "nbconvert_exporter": "python",
   "pygments_lexer": "ipython3",
   "version": "3.12.4"
  }
 },
 "nbformat": 4,
 "nbformat_minor": 5
}
